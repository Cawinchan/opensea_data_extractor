{
 "cells": [
  {
   "cell_type": "code",
   "execution_count": 3,
   "metadata": {},
   "outputs": [],
   "source": [
    "from opensea import assets,bundles,common\n",
    "import json"
   ]
  },
  {
   "cell_type": "markdown",
   "metadata": {},
   "source": [
    "# Summary of parameters from OpenSea "
   ]
  },
  {
   "cell_type": "code",
   "execution_count": 4,
   "metadata": {},
   "outputs": [
    {
     "name": "stdout",
     "output_type": "stream",
     "text": [
      "0xc8db25e7d49ae0c4f4a63b98203fce908b052cf4\n",
      "https://storage.googleapis.com/opensea-static/opensea-profile/2.png\n",
      "Offerzaccept\n",
      "\n",
      "Rare Whixtensions\n",
      "Oh hi! I'm Rare Whixtensions. I want to live in a world where people believe that one day cats will rule this planet. I would give it all up for a Chanel purse. Let's pawty!\n",
      "https://opensea.io/assets/0x06012c8cf97bead5deae237070f9587f8e7a266d/126980\n",
      "0.0\n"
     ]
    }
   ],
   "source": [
    "# This will return a list of assets which you can iterate and get the needed data\n",
    "# Note we will ignore bundles (Collection of NFTs sold together)\n",
    "\n",
    "asset_list = assets.get_assets(limit=1,verified_only=False)\n",
    "\n",
    "\n",
    "asset = asset_list[0] # Get the first asset obejct from the list\n",
    "\n",
    "print(asset.owner.address)\n",
    "print(asset.owner.profile_img_url)\n",
    "print(asset.owner.username)\n",
    "print(asset.owner.config)\n",
    "\n",
    "print(asset.name)\n",
    "print(asset.description)\n",
    "print(asset.asset_url)\n",
    "print(asset.get_floor_price()) # Floor price of the collection\n",
    "\n",
    "# We have a script forked by unoffical https://github.com/ankushKun/opensea."
   ]
  },
  {
   "cell_type": "markdown",
   "metadata": {},
   "source": [
    "# Json from assets that we are able to query "
   ]
  },
  {
   "cell_type": "code",
   "execution_count": 16,
   "metadata": {},
   "outputs": [
    {
     "name": "stdout",
     "output_type": "stream",
     "text": [
      "Asset keys:\n",
      "dict_keys(['id', 'token_id', 'num_sales', 'background_color', 'image_url', 'image_preview_url', 'image_thumbnail_url', 'image_original_url', 'animation_url', 'animation_original_url', 'name', 'description', 'external_link', 'asset_contract', 'permalink', 'collection', 'decimals', 'token_metadata', 'owner', 'sell_orders', 'creator', 'traits', 'last_sale', 'top_bid', 'listing_date', 'is_presale', 'transfer_fee_payment_token', 'transfer_fee', 'related_assets', 'orders', 'auctions', 'supports_wyvern', 'top_ownerships', 'ownership', 'highest_buyer_commitment'])\n"
     ]
    },
    {
     "data": {
      "application/json": {
       "animation_original_url": null,
       "animation_url": null,
       "asset_contract": {
        "address": "0x06012c8cf97bead5deae237070f9587f8e7a266d",
        "asset_contract_type": "non-fungible",
        "buyer_fee_basis_points": 0,
        "created_date": "2018-01-23T04:51:38.832339",
        "default_to_fiat": false,
        "description": "CryptoKitties is a game centered around breedable, collectible, and oh-so-adorable creatures we call CryptoKitties! Each cat is one-of-a-kind and 100% owned by you; it cannot be replicated, taken away, or destroyed.",
        "dev_buyer_fee_basis_points": 0,
        "dev_seller_fee_basis_points": 0,
        "external_link": "https://www.cryptokitties.co/",
        "image_url": "https://lh3.googleusercontent.com/C272ZRW1RGGef9vKMePFSCeKc1Lw6U40wl9ofNVxzUxFdj84hH9xJRQNf-7wgs7W8qw8RWe-1ybKp-VKuU5D-tg=s60",
        "name": "CryptoKitties",
        "nft_version": "1.0",
        "only_proxied_transfers": false,
        "opensea_buyer_fee_basis_points": 0,
        "opensea_seller_fee_basis_points": 250,
        "opensea_version": null,
        "owner": 463841,
        "payout_address": null,
        "schema_name": "ERC721",
        "seller_fee_basis_points": 250,
        "symbol": "CKITTY",
        "total_supply": null
       },
       "auctions": [],
       "background_color": "fcdede",
       "collection": {
        "banner_image_url": "https://storage.opensea.io/static/banners/cryptokitties-banner2.png",
        "chat_url": null,
        "created_date": "2019-04-26T22:13:04.207050",
        "default_to_fiat": false,
        "description": "CryptoKitties is a game centered around breedable, collectible, and oh-so-adorable creatures we call CryptoKitties! Each cat is one-of-a-kind and 100% owned by you; it cannot be replicated, taken away, or destroyed.",
        "dev_buyer_fee_basis_points": "0",
        "dev_seller_fee_basis_points": "0",
        "discord_url": "https://discord.gg/cryptokitties",
        "display_data": {
         "card_display_style": "padded"
        },
        "external_url": "https://www.cryptokitties.co/",
        "featured": false,
        "featured_image_url": "https://storage.opensea.io/0x06012c8cf97bead5deae237070f9587f8e7a266d-featured-1556589429.png",
        "hidden": false,
        "image_url": "https://lh3.googleusercontent.com/C272ZRW1RGGef9vKMePFSCeKc1Lw6U40wl9ofNVxzUxFdj84hH9xJRQNf-7wgs7W8qw8RWe-1ybKp-VKuU5D-tg=s60",
        "instagram_username": null,
        "is_subject_to_whitelist": false,
        "large_image_url": "https://lh3.googleusercontent.com/C272ZRW1RGGef9vKMePFSCeKc1Lw6U40wl9ofNVxzUxFdj84hH9xJRQNf-7wgs7W8qw8RWe-1ybKp-VKuU5D-tg",
        "medium_username": null,
        "name": "CryptoKitties",
        "only_proxied_transfers": false,
        "opensea_buyer_fee_basis_points": "0",
        "opensea_seller_fee_basis_points": "250",
        "payment_tokens": [
         {
          "address": "0xd0929d411954c47438dc1d871dd6081f5c5e149c",
          "decimals": 4,
          "eth_price": 1.078455134e-05,
          "id": 5098533,
          "image_url": "https://lh3.googleusercontent.com/XB1KohVuy2E87R324IGijVhDZeHKhlkiB_TcpAH8sVTCdaA5brsYyxYXNzFK6SE2qGAtfya7FVzB9rgJBYQrjJVqeA",
          "name": null,
          "symbol": "RFR",
          "usd_price": 0.01795927
         },
         {
          "address": "0x0000000000000000000000000000000000000000",
          "decimals": 18,
          "eth_price": 1,
          "id": 13689077,
          "image_url": "https://storage.opensea.io/files/6f8e2979d428180222796ff4a33ab929.svg",
          "name": "Ether",
          "symbol": "ETH",
          "usd_price": 4070.61
         },
         {
          "address": "0x056fd409e1d7a124bd7017459dfea2f387b6d5cd",
          "decimals": 2,
          "eth_price": 0.00056390042182,
          "id": 4645815,
          "image_url": "https://lh3.googleusercontent.com/MLKbcx1oxhZjkXzsQM-fju8R3hHqsu-mGpFzivWMadH7bXT_kw48-rrD6os594lPY0x7MU-QGLy4ZudX1ePTx-Y",
          "name": "Gemini dollar",
          "symbol": "GUSD",
          "usd_price": 1
         },
         {
          "address": "0x6b175474e89094c44da98b954eedeac495271d0f",
          "decimals": 18,
          "eth_price": 0.00025883,
          "id": 12182941,
          "image_url": "https://storage.opensea.io/files/8ef8fb3fe707f693e57cdbfea130c24c.svg",
          "name": "Dai Stablecoin",
          "symbol": "DAI",
          "usd_price": 1.01
         },
         {
          "address": "0xc02aaa39b223fe8d0a0e5c4f27ead9083c756cc2",
          "decimals": 18,
          "eth_price": 1,
          "id": 4645681,
          "image_url": "https://storage.opensea.io/files/accae6b6fb3888cbff27a013729c22dc.svg",
          "name": "Wrapped Ether",
          "symbol": "WETH",
          "usd_price": 4083.72
         },
         {
          "address": "0xa0b86991c6218b36c1d19d4a2e9eb0ce3606eb48",
          "decimals": 6,
          "eth_price": 0.000551436563967,
          "id": 4403908,
          "image_url": "https://storage.opensea.io/files/749015f009a66abcb3bbb3502ae2f1ce.svg",
          "name": "USD Coin",
          "symbol": "USDC",
          "usd_price": 1
         },
         {
          "address": "0x09fe5f0236f0ea5d930197dce254d77b04128075",
          "decimals": 18,
          "eth_price": 0.003858847984609,
          "id": 4645691,
          "image_url": "https://lh3.googleusercontent.com/L5nvau4G9vXrA4AUs8OLxddBBEQHQZgUuUqnv9PzGo5mMgDm3_7pKhy8HPeWnqYCqKBi3MkhY6vpzq0HnV4aAEY",
          "name": "Wrapped CryptoKitties",
          "symbol": "WCK",
          "usd_price": 8.24
         },
         {
          "address": "0x0eed7d6564fae0c22a7dc9ebb3db4a4c4a1473ee",
          "decimals": 18,
          "eth_price": 3.4e-06,
          "id": 16206959,
          "image_url": "https://lh3.googleusercontent.com/DRoQ7e9zCHgk8CLcTpKxYTIIFyG8qzlsW3wPFY_NiVVdScylei8jbXHua49Bp--j7tNIvTYxftIwpEuatgUxsN8AeA",
          "name": "Cherry",
          "symbol": "CHERRY",
          "usd_price": 0.01292857
         }
        ],
        "payout_address": null,
        "primary_asset_contracts": [
         {
          "address": "0x06012c8cf97bead5deae237070f9587f8e7a266d",
          "asset_contract_type": "non-fungible",
          "buyer_fee_basis_points": 0,
          "created_date": "2018-01-23T04:51:38.832339",
          "default_to_fiat": false,
          "description": "CryptoKitties is a game centered around breedable, collectible, and oh-so-adorable creatures we call CryptoKitties! Each cat is one-of-a-kind and 100% owned by you; it cannot be replicated, taken away, or destroyed.",
          "dev_buyer_fee_basis_points": 0,
          "dev_seller_fee_basis_points": 0,
          "external_link": "https://www.cryptokitties.co/",
          "image_url": "https://lh3.googleusercontent.com/C272ZRW1RGGef9vKMePFSCeKc1Lw6U40wl9ofNVxzUxFdj84hH9xJRQNf-7wgs7W8qw8RWe-1ybKp-VKuU5D-tg=s60",
          "name": "CryptoKitties",
          "nft_version": "1.0",
          "only_proxied_transfers": false,
          "opensea_buyer_fee_basis_points": 0,
          "opensea_seller_fee_basis_points": 250,
          "opensea_version": null,
          "owner": 463841,
          "payout_address": null,
          "schema_name": "ERC721",
          "seller_fee_basis_points": 250,
          "symbol": "CKITTY",
          "total_supply": null
         }
        ],
        "require_email": false,
        "safelist_request_status": "verified",
        "short_description": null,
        "slug": "cryptokitties",
        "stats": {
         "average_price": 0.09086014162404042,
         "count": 2009179,
         "floor_price": 0,
         "market_cap": 87531.57858130003,
         "num_owners": 108830,
         "num_reports": 80,
         "one_day_average_price": 0.02321561094561951,
         "one_day_change": -0.17649415922306716,
         "one_day_sales": 82,
         "one_day_volume": 1.9036800975408,
         "seven_day_average_price": 0.04356584385029906,
         "seven_day_change": -0.39295676259103535,
         "seven_day_sales": 641,
         "seven_day_volume": 27.919271751892,
         "thirty_day_average_price": 0.1875512467755708,
         "thirty_day_change": -0.8091235991284006,
         "thirty_day_sales": 2691,
         "thirty_day_volume": 504.700405073064,
         "total_sales": 769741,
         "total_supply": 2009179,
         "total_volume": 69938.7762739736
        },
        "telegram_url": null,
        "traits": {
         "cooldown_index": {
          "max": 13,
          "min": 0
         },
         "fancy_ranking": {
          "max": 10000,
          "min": 1
         },
         "generation": {
          "max": 4593,
          "min": 0
         },
         "purrstige_ranking": {
          "max": 2480,
          "min": 1
         }
        },
        "twitter_username": "CryptoKitties",
        "wiki_url": "https://opensea.readme.io/page/cryptokitties"
       },
       "creator": {
        "address": "0xba52c75764d6f594735dc735be7f1830cdf58ddf",
        "config": "",
        "profile_img_url": "https://storage.googleapis.com/opensea-static/opensea-profile/3.png",
        "user": null
       },
       "decimals": null,
       "description": "Oh hi! I'm Rare Whixtensions. I want to live in a world where people believe that one day cats will rule this planet. I would give it all up for a Chanel purse. Let's pawty!",
       "external_link": "https://www.cryptokitties.co/kitty/126980",
       "highest_buyer_commitment": null,
       "id": 87,
       "image_original_url": "https://img.cryptokitties.co/0x06012c8cf97bead5deae237070f9587f8e7a266d/126980.png",
       "image_preview_url": "https://lh3.googleusercontent.com/wzrRAgkq0gwq1_jg_RN3_hW1eA8CwPefobfyjQP5QCPxBVOoZX5BY4suaP1htwvVlGE5rR4-z-duWJfQJ8ye-g=s250",
       "image_thumbnail_url": "https://lh3.googleusercontent.com/wzrRAgkq0gwq1_jg_RN3_hW1eA8CwPefobfyjQP5QCPxBVOoZX5BY4suaP1htwvVlGE5rR4-z-duWJfQJ8ye-g=s128",
       "image_url": "https://lh3.googleusercontent.com/wzrRAgkq0gwq1_jg_RN3_hW1eA8CwPefobfyjQP5QCPxBVOoZX5BY4suaP1htwvVlGE5rR4-z-duWJfQJ8ye-g",
       "is_presale": false,
       "last_sale": {
        "asset": {
         "decimals": null,
         "token_id": "126980"
        },
        "asset_bundle": null,
        "auction_type": null,
        "created_date": "2019-08-22T02:24:01.894733",
        "event_timestamp": "2019-08-22T02:23:40",
        "event_type": "successful",
        "payment_token": {
         "address": "0x0000000000000000000000000000000000000000",
         "decimals": 18,
         "eth_price": "1.000000000000000",
         "id": 1,
         "image_url": "https://storage.opensea.io/files/6f8e2979d428180222796ff4a33ab929.svg",
         "name": "Ether",
         "symbol": "ETH",
         "usd_price": "4070.610000000000127000"
        },
        "quantity": null,
        "total_price": "100000000000000000",
        "transaction": {
         "block_hash": "b'~\\x8f\\xb3\\x01@\\x8f\\x9ck\\xaaM\\x1a\\x01\\xdd1\\x9a\\xbeT\\xba\\x1d\\xa7jT\\xf0\\xe2\\xe8=\\x19b8\\xce\\xd2\\xf9'",
         "block_number": "8397410",
         "from_account": {
          "address": "0x09fa6493598e40261b210edba861fc41538c1a2f",
          "config": "",
          "profile_img_url": "https://storage.googleapis.com/opensea-static/opensea-profile/10.png",
          "user": {
           "username": "NiftyGateway-TransferWallet2"
          }
         },
         "id": 9180651,
         "timestamp": "2019-08-22T02:23:40",
         "to_account": {
          "address": "0x7be8076f4ea4a4ad08075c2508e481d6c946d12b",
          "config": "verified",
          "profile_img_url": "https://storage.googleapis.com/opensea-static/opensea-profile/22.png",
          "user": {
           "username": "OpenSea-Orders"
          }
         },
         "transaction_hash": "0x597d31d99345ae13a0c6703a27e7bb362c08c83df26d6f3a0bc0b0ea51731e66",
         "transaction_index": "29"
        }
       },
       "listing_date": null,
       "name": "Rare Whixtensions",
       "num_sales": 2,
       "orders": [
        {
         "approved_on_chain": false,
         "base_price": "10000000000000000",
         "bounty_multiple": "0.01",
         "calldata": "0x23b872dd00000000000000000000000000000000000000000000000000000000000000000000000000000000000000006be4a7bbb812bfa6a63126ee7b76c8a13529bdb8000000000000000000000000000000000000000000000000000000000001f004",
         "cancelled": false,
         "closing_date": null,
         "closing_extendable": false,
         "created_date": "2018-08-10T18:21:49.091243",
         "current_bounty": "100000000000000",
         "current_price": "10000000000000000",
         "exchange": "0x7be8076f4ea4a4ad08075c2508e481d6c946d12b",
         "expiration_time": 0,
         "extra": "0",
         "fee_method": 0,
         "fee_recipient": {
          "address": "0x11db40014e2985c360b3f2a4ba350fbf104dc326",
          "config": "",
          "profile_img_url": "https://storage.googleapis.com/opensea-static/opensea-profile/20.png",
          "user": null
         },
         "finalized": false,
         "how_to_call": 0,
         "listing_time": 1529001266,
         "maker": {
          "address": "0x6be4a7bbb812bfa6a63126ee7b76c8a13529bdb8",
          "config": "affiliate",
          "profile_img_url": "https://storage.googleapis.com/opensea-static/opensea-profile/4.png",
          "user": {
           "username": "wanderer2"
          }
         },
         "maker_protocol_fee": "0",
         "maker_referrer_fee": "0",
         "maker_relayer_fee": "0",
         "marked_invalid": false,
         "metadata": {
          "asset": {
           "address": "0x06012c8cf97bead5deae237070f9587f8e7a266d",
           "id": "126980"
          },
          "schema": "ERC721"
         },
         "order_hash": "0xc22c914cad1823b1bddef0df48a7751000818d7088ee4086eee6a35e718c1a2f",
         "payment_token": "0xc02aaa39b223fe8d0a0e5c4f27ead9083c756cc2",
         "payment_token_contract": {
          "address": "0xc02aaa39b223fe8d0a0e5c4f27ead9083c756cc2",
          "decimals": 18,
          "eth_price": "1.000000000000000",
          "id": 2,
          "image_url": "https://storage.opensea.io/files/accae6b6fb3888cbff27a013729c22dc.svg",
          "name": "Wrapped Ether",
          "symbol": "WETH",
          "usd_price": "4083.719999999999800000"
         },
         "prefixed_hash": "0x824f225d82c789eae17a1ad197c388bef3b20825eda8007e553d36865ea7859f",
         "quantity": "1",
         "r": "0x9b69c015cabc3a88b01c9b6e5ad3b50d60123e9e7ab9685b4879548de2f7e467",
         "replacement_pattern": "0x00000000ffffffffffffffffffffffffffffffffffffffffffffffffffffffffffffffff00000000000000000000000000000000000000000000000000000000000000000000000000000000000000000000000000000000000000000000000000000000",
         "s": "0x381cd65000703b1bb9e9e14794607cc45f2ee6f19235dc84f4a3400e5a7c8a16",
         "sale_kind": 0,
         "salt": "22438274526502157361135905908797685628906246313935474510332955463050166586815",
         "side": 0,
         "static_extradata": "0x",
         "static_target": "0x0000000000000000000000000000000000000000",
         "taker": {
          "address": "0x0000000000000000000000000000000000000000",
          "config": "",
          "profile_img_url": "https://storage.googleapis.com/opensea-static/opensea-profile/1.png",
          "user": {
           "username": "NullAddress"
          }
         },
         "taker_protocol_fee": "0",
         "taker_relayer_fee": "0",
         "target": "0x06012c8cf97bead5deae237070f9587f8e7a266d",
         "v": 28
        }
       ],
       "owner": {
        "address": "0xc8db25e7d49ae0c4f4a63b98203fce908b052cf4",
        "config": "",
        "profile_img_url": "https://storage.googleapis.com/opensea-static/opensea-profile/2.png",
        "user": {
         "username": "Offerzaccept"
        }
       },
       "ownership": null,
       "permalink": "https://opensea.io/assets/0x06012c8cf97bead5deae237070f9587f8e7a266d/126980",
       "related_assets": [],
       "sell_orders": null,
       "supports_wyvern": true,
       "token_id": "126980",
       "token_metadata": "",
       "top_bid": null,
       "top_ownerships": [
        {
         "owner": {
          "address": "0xc8db25e7d49ae0c4f4a63b98203fce908b052cf4",
          "config": "",
          "profile_img_url": "https://storage.googleapis.com/opensea-static/opensea-profile/2.png",
          "user": {
           "username": "Offerzaccept"
          }
         },
         "quantity": "1"
        }
       ],
       "traits": [
        {
         "display_type": null,
         "max_value": null,
         "order": null,
         "trait_count": 407702,
         "trait_type": "pattern",
         "value": "totesbasic"
        },
        {
         "display_type": null,
         "max_value": null,
         "order": null,
         "trait_count": 101111,
         "trait_type": "mouth",
         "value": "whixtensions"
        },
        {
         "display_type": "number",
         "max_value": null,
         "order": null,
         "trait_count": 138487,
         "trait_type": "generation",
         "value": 2
        },
        {
         "display_type": null,
         "max_value": null,
         "order": null,
         "trait_count": 978687,
         "trait_type": "virginity",
         "value": "non-virgin"
        },
        {
         "display_type": null,
         "max_value": null,
         "order": null,
         "trait_count": 230736,
         "trait_type": "accent_colour",
         "value": "kittencream"
        },
        {
         "display_type": null,
         "max_value": null,
         "order": null,
         "trait_count": 104323,
         "trait_type": "fur",
         "value": "himalayan"
        },
        {
         "display_type": null,
         "max_value": null,
         "order": null,
         "trait_count": 189009,
         "trait_type": "base_colour",
         "value": "greymatter"
        },
        {
         "display_type": null,
         "max_value": null,
         "order": null,
         "trait_count": 164819,
         "trait_type": "cooldown_timer",
         "value": "Swift (5 min)"
        },
        {
         "display_type": null,
         "max_value": null,
         "order": null,
         "trait_count": 155484,
         "trait_type": "eye_colour",
         "value": "strawberry"
        },
        {
         "display_type": null,
         "max_value": null,
         "order": null,
         "trait_count": 171171,
         "trait_type": "eye_shape",
         "value": "crazy"
        },
        {
         "display_type": null,
         "max_value": null,
         "order": null,
         "trait_count": 53110,
         "trait_type": "highlight_colour",
         "value": "skyblue"
        },
        {
         "display_type": null,
         "max_value": null,
         "order": null,
         "trait_count": 14950,
         "trait_type": "secret",
         "value": "se4"
        },
        {
         "display_type": null,
         "max_value": null,
         "order": null,
         "trait_count": 18078,
         "trait_type": "purrstige",
         "value": "pu8"
        }
       ],
       "transfer_fee": null,
       "transfer_fee_payment_token": null
      },
      "text/plain": [
       "<IPython.core.display.JSON object>"
      ]
     },
     "execution_count": 16,
     "metadata": {
      "application/json": {
       "expanded": false,
       "root": "root"
      }
     },
     "output_type": "execute_result"
    }
   ],
   "source": [
    "from IPython.display import display,JSON\n",
    "print(\"Asset keys:\")\n",
    "asset_dictionary = asset.get_json()\n",
    "print(asset_dictionary.keys())\n",
    "\n",
    "json_asset = json.dumps(asset_dictionary, indent = 4, sort_keys=True) \n",
    "JSON(asset_dictionary)"
   ]
  },
  {
   "cell_type": "markdown",
   "metadata": {},
   "source": [
    "# A look into the Images from OpenSea"
   ]
  },
  {
   "cell_type": "code",
   "execution_count": 2,
   "metadata": {},
   "outputs": [
    {
     "name": "stdout",
     "output_type": "stream",
     "text": [
      "0xc8db25e7d49ae0c4f4a63b98203fce908b052cf4\n",
      "https://storage.googleapis.com/opensea-static/opensea-profile/2.png\n",
      "Offerzaccept\n",
      "\n",
      "Rare Whixtensions\n",
      "Oh hi! I'm Rare Whixtensions. I want to live in a world where people believe that one day cats will rule this planet. I would give it all up for a Chanel purse. Let's pawty!\n",
      "https://opensea.io/assets/0x06012c8cf97bead5deae237070f9587f8e7a266d/126980\n",
      "https://lh3.googleusercontent.com/wzrRAgkq0gwq1_jg_RN3_hW1eA8CwPefobfyjQP5QCPxBVOoZX5BY4suaP1htwvVlGE5rR4-z-duWJfQJ8ye-g\n",
      "0.0\n"
     ]
    }
   ],
   "source": [
    "# This will return a list of assets which you can iterate and get the needed data\n",
    "# Note we will ignore bundles (Collection of NFTs sold together)\n",
    "\n",
    "asset_list = assets.get_assets(limit=50,verified_only=False)\n",
    "\n",
    "for i in range(len(asset_list)):\n",
    "    asset = asset_list[0] # Get the first asset obejct from the list\n",
    "\n",
    "    print(asset.owner.address)\n",
    "    print(asset.owner.profile_img_url)\n",
    "    print(asset.owner.username)\n",
    "    print(asset.owner.config)\n",
    "\n",
    "    print(asset.name)\n",
    "    print(asset.description)\n",
    "    print(asset.asset_url)\n",
    "    print(asset.image_url)\n",
    "    print(asset.get_floor_price()) # Floor price of the collection"
   ]
  },
  {
   "cell_type": "code",
   "execution_count": null,
   "metadata": {},
   "outputs": [],
   "source": []
  }
 ],
 "metadata": {
  "interpreter": {
   "hash": "b6812ffed06b5cffa901a574e9a3e59a1818ab1760ef7e635753d5703565f15d"
  },
  "kernelspec": {
   "display_name": "Python 3",
   "language": "python",
   "name": "python3"
  },
  "language_info": {
   "codemirror_mode": {
    "name": "ipython",
    "version": 3
   },
   "file_extension": ".py",
   "mimetype": "text/x-python",
   "name": "python",
   "nbconvert_exporter": "python",
   "pygments_lexer": "ipython3",
   "version": "3.6.10"
  }
 },
 "nbformat": 4,
 "nbformat_minor": 4
}
